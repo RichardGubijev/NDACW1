{
 "cells": [
  {
   "cell_type": "code",
   "execution_count": 4,
   "metadata": {},
   "outputs": [],
   "source": [
    "import numpy as np\n",
    "import networkx as nx\n",
    "from bokeh.io import output_notebook\n",
    "from bokeh.io import output_file, show, save\n",
    "from bokeh.plotting import figure, from_networkx\n",
    "import seaborn as sns\n",
    "import matplotlib.pyplot as plt\n",
    "import pandas as pd\n",
    "from taska import parseWikiData\n",
    "import collections"
   ]
  },
  {
   "cell_type": "markdown",
   "metadata": {},
   "source": [
    "### Load Graphs"
   ]
  },
  {
   "cell_type": "code",
   "execution_count": 5,
   "metadata": {},
   "outputs": [
    {
     "data": {
      "image/png": "[encoded data removed]",
      "text/plain": [
       "<Figure size 640x480 with 1 Axes>"
      ]
     },
     "metadata": {},
     "output_type": "display_data"
    },
    {
     "data": {
      "image/png": "[encoded data removed]",
      "text/plain": [
       "<Figure size 640x480 with 1 Axes>"
      ]
     },
     "metadata": {},
     "output_type": "display_data"
    }
   ],
   "source": [
    "if __name__ == \"__main__\":\n",
    "    filepath = 'datasets/PROPERTIES_FOR_DELETION_SML.csv'\n",
    "    filepath2 = \"datasets/WIKIPROJECTS_MED.csv\"\n",
    "    filepath3 = \"datasets/REQUEST_FOR_DELETION_LRG.csv\"\n",
    "\n",
    "    graph1 = parseWikiData(filepath=filepath)\n",
    "    graph2 = parseWikiData(filepath=filepath2)\n",
    "    graph3 = parseWikiData(filepath=filepath3)\n",
    "\n",
    "    nx.draw(graph1, with_labels = False)\n",
    "    plt.show()\n",
    "    nx.draw(graph2, with_labels = False)\n",
    "    plt.show()\n",
    "    nx.draw(graph3, with_labels = False)\n",
    "    plt.show()"
   ]
  },
  {
   "cell_type": "code",
   "execution_count": null,
   "metadata": {},
   "outputs": [],
   "source": [
    " # If we want to plot the graph = subgraph(largest_component)\n",
    "def bokeh_plot_simple(graph:nx.Graph, title:str, scale=2, crop_factors = None):\n",
    "    \n",
    "    crop_factors = dict(x_range=(-1.1,1.1), y_range=(-1.1,1.1)) \\\n",
    "        if crop_factors is None else crop_factors\n",
    "\n",
    "    plot = figure(\n",
    "        title=title, tools=\"\",\n",
    "        toolbar_location=None, **crop_factors)\n",
    "\n",
    "    mapping = dict((n, i) for i, n in enumerate(graph.nodes))\n",
    "    graph_mapped = nx.relabel_nodes(graph, mapping)\n",
    "\n",
    "    graph_plot = from_networkx(\n",
    "        graph_mapped, nx.spring_layout, scale=scale, center=(0,0))\n",
    "    plot.renderers.append(graph_plot)\n",
    "\n",
    "    #output_file(\"networkx_graph.html\")\n",
    "    show(plot)\n",
    "\n",
    "output_notebook()"
   ]
  },
  {
   "cell_type": "code",
   "execution_count": null,
   "metadata": {},
   "outputs": [],
   "source": [
    "bokeh_plot_simple(graph1, 'Graph 1', 4)\n",
    "bokeh_plot_simple(graph2, 'Graph 2', 1)\n",
    "bokeh_plot_simple(graph3, 'Graph 3', 2)"
   ]
  },
  {
   "cell_type": "markdown",
   "metadata": {},
   "source": [
    "## i) Characteristics"
   ]
  },
  {
   "cell_type": "markdown",
   "metadata": {},
   "source": [
    "### 1) graph statistics"
   ]
  },
  {
   "cell_type": "code",
   "execution_count": null,
   "metadata": {},
   "outputs": [],
   "source": [
    "# i)1) Graph Statistics\n",
    "def print_graph_statistics(graph:nx.Graph):\n",
    "    print(\"Number of nodes: {}\\nNumber of edges: {}\".format(\n",
    "        graph.number_of_nodes(), graph.number_of_edges()\n",
    "    ))\n",
    "    print(\"Number of connected components: {}\".format(\n",
    "        nx.algorithms.components.number_connected_components(graph),\n",
    "    ))\n",
    "    print(\"Average degree: {}\\nClustering coefficient: {}\".format(\n",
    "        np.mean([deg for _, deg in graph.degree]),\n",
    "        nx.algorithms.cluster.average_clustering(graph)\n",
    "    ))\n",
    "\n",
    "    try:  # attempt to compute the diameter of the graph\n",
    "        diam = nx.algorithms.approximation.distance_measures.diameter(graph)\n",
    "        print(\"Graph diameter: {}\".format(diam))\n",
    "    except:  # an error has  occurred\n",
    "        print(\"\\nERROR: Could not compute the diameter of the graph.\")"
   ]
  },
  {
   "cell_type": "code",
   "execution_count": null,
   "metadata": {},
   "outputs": [],
   "source": [
    "print_graph_statistics(graph1)\n",
    "print()\n",
    "print_graph_statistics(graph2)\n",
    "print()\n",
    "print_graph_statistics(graph3)"
   ]
  },
  {
   "cell_type": "code",
   "execution_count": null,
   "metadata": {},
   "outputs": [],
   "source": [
    "def get_degree_count_distribution(graph):\n",
    "    degree_sequence = [d for n, d in graph.degree()]\n",
    "    degree_count = collections.Counter(degree_sequence)\n",
    "    deg, cnt = zip(*degree_count.items())\n",
    "\n",
    "    fig, ax = plt.subplots()\n",
    "    plt.bar(deg, cnt, width=0.8)\n",
    "    plt.title('Degree Histogram')\n",
    "    plt.ylabel('Count')\n",
    "    plt.xlabel('Degree')\n",
    "    plt.show\n"
   ]
  },
  {
   "cell_type": "markdown",
   "metadata": {},
   "source": [
    "### 2) high level stats"
   ]
  },
  {
   "cell_type": "code",
   "execution_count": null,
   "metadata": {},
   "outputs": [],
   "source": [
    "def print_connected_statistics_with_average_shortest_path(component:nx.Graph):\n",
    "    print(\"Number of nodes: {}\\nNumber of edges: {}\".format(\n",
    "        component.number_of_nodes(), component.number_of_edges()\n",
    "    ))\n",
    "    print(\"Average path length: {}\".format(\n",
    "    nx.average_shortest_path_length(component)\n",
    "    ))\n",
    "    print(\"Number of connected components: {}\".format(\n",
    "        nx.algorithms.components.number_connected_components(component),\n",
    "    ))\n",
    "    print(\"Average degree: {}\\nClustering coefficient: {}\".format(\n",
    "        np.mean([deg for _, deg in component.degree]),\n",
    "        nx.algorithms.cluster.average_clustering(component)\n",
    "    ))\n",
    "\n",
    "    try:  # attempt to compute the diameter of the graph\n",
    "        diam = nx.algorithms.approximation.distance_measures.diameter(component)\n",
    "        print(\"Graph diameter: {}\".format(diam))\n",
    "    except:  # an error has  occurred\n",
    "        print(\"\\nERROR: Could not compute the diameter of the graph.\")"
   ]
  },
  {
   "cell_type": "code",
   "execution_count": null,
   "metadata": {},
   "outputs": [],
   "source": [
    "def print_statistics_for_largest_component(graph:nx.Graph):\n",
    "    largest_component = max(nx.connected_components(graph), key=len)\n",
    "    graph_largest_components = graph.subgraph(largest_component)\n",
    "    print_connected_statistics_with_average_shortest_path(graph_largest_components)\n",
    "    #Could do for all components\n",
    "    # for i, conn_component in enumerate(\n",
    "    #     nx.connected_components(graph)):\n",
    "    #     print(f\"[Graph component {i}]\")\n",
    "    #     sub_graph = graph.subgraph(conn_component)  # XXX Careful to manupulations!\n",
    "    #     print_connected_component_statistics(sub_graph)\n",
    "    #     print(\"-\"*50 + \"\\n\")"
   ]
  },
  {
   "cell_type": "code",
   "execution_count": null,
   "metadata": {},
   "outputs": [],
   "source": [
    "print_statistics_for_largest_component(graph1)\n",
    "print()\n",
    "print_statistics_for_largest_component(graph2)\n",
    "print()\n",
    "print_statistics_for_largest_component(graph3)"
   ]
  },
  {
   "cell_type": "markdown",
   "metadata": {},
   "source": [
    "### 3) Node level statistics"
   ]
  },
  {
   "cell_type": "code",
   "execution_count": null,
   "metadata": {},
   "outputs": [],
   "source": [
    "def get_node_level_descriptors(graph:nx.Graph):\n",
    "    degrees = [d for _, d in graph.degree()]\n",
    "    degree_centrality = [d for _, d in nx.degree_centrality(graph).items()]\n",
    "    ccoeffs = [d for _, d in nx.algorithms.cluster.clustering(graph).items()]\n",
    "    ccentra = [d for _, d in nx.closeness_centrality(graph).items()]\n",
    "\n",
    "    return {'degrees': degrees, 'degree_centrality': degree_centrality, 'clustering coefficients': ccoeffs, 'closenes centrality': ccentra}"
   ]
  },
  {
   "cell_type": "code",
   "execution_count": null,
   "metadata": {},
   "outputs": [],
   "source": [
    "def plot_helper_node_level_descriptors(descriptors, titles, key):\n",
    "    data = {titles[i]: descriptors[i][key] for i in range(len(titles))}\n",
    "    sns.displot(data, height=4, aspect=2, kde=True)\n",
    "\n",
    "\n",
    "def show_node_level_descriptors(graphs=[graph1, graph2, graph3], titles=['graph1', 'graph2', 'graph3']):\n",
    "    \n",
    "    descriptors = [get_node_level_descriptors(graph) for graph in graphs]\n",
    "\n",
    "    plot_helper_node_level_descriptors(descriptors, titles, 'degrees')\n",
    "    plot_helper_node_level_descriptors(descriptors, titles, 'degree_centrality')\n",
    "    plot_helper_node_level_descriptors(descriptors, titles, 'clustering coefficients')\n",
    "    plot_helper_node_level_descriptors(descriptors, titles, 'closenes centrality')"
   ]
  },
  {
   "cell_type": "code",
   "execution_count": null,
   "metadata": {},
   "outputs": [],
   "source": [
    "#compare to a random and regular version of itself\n",
    "show_node_level_descriptors()"
   ]
  },
  {
   "cell_type": "markdown",
   "metadata": {},
   "source": [
    "## ii) Shortest Paths"
   ]
  },
  {
   "cell_type": "code",
   "execution_count": null,
   "metadata": {},
   "outputs": [],
   "source": [
    "# Djikstra\n",
    "def get_shortest_path_largest_component_Dijkstra(graph:nx.Graph):\n",
    "    size = len(graph.nodes)\n",
    "    start_node = 0\n",
    "    end_node = int(start_node + size/2) % size\n",
    "\n",
    "    print(f\"Start node: {start_node}\\nEnd node: {end_node}\") \n",
    "\n",
    "    spath = nx.algorithms.dijkstra_path(graph, start_node, end_node)\n",
    "    print(\"\\nShortest path: \" + \" -> \".join([str(n) for n in spath]))\n",
    "\n",
    "    print(\"How long is the path among these farthest nodes? {}\".format(\n",
    "    len(spath) - 1))  # here we do -1 to avoid counting the starting node!\n",
    "    print(f'Should be the same as the diameter of the graph!!!{nx.algorithms.approximation.distance_measures.diameter(graph)}')"
   ]
  },
  {
   "cell_type": "code",
   "execution_count": null,
   "metadata": {},
   "outputs": [],
   "source": [
    "# BF\n",
    "def get_shortest_path_largest_component_BF(graph:nx.Graph):\n",
    "    \n",
    "    size = len(graph.nodes)\n",
    "    start_node = 0\n",
    "    end_node = int(start_node + size/2) % size\n",
    "\n",
    "    print(f\"Start node: {start_node}\\nEnd node: {end_node}\") \n",
    "\n",
    "    spath = nx.algorithms.bellman_ford_path(graph, start_node, end_node)\n",
    "    print(\"\\nShortest path: \" + \" -> \".join([str(n) for n in spath]))\n",
    "\n",
    "    print(\"How long is the path among these farthest nodes? {}\".format(\n",
    "    len(spath) - 1))  # here we do -1 to avoid counting the starting node!\n",
    "    print(f'Should be the same as the diameter of the graph!!! {nx.algorithms.approximation.distance_measures.diameter(graph)}')"
   ]
  },
  {
   "cell_type": "code",
   "execution_count": null,
   "metadata": {},
   "outputs": [],
   "source": [
    "graph1_largest_component = graph1.subgraph(max(nx.connected_components(graph1), key=len))\n",
    "\n",
    "graph2_largest_component = graph2.subgraph(max(nx.connected_components(graph2), key=len))\n",
    "\n",
    "graph3_largest_component = graph3.subgraph(max(nx.connected_components(graph3), key=len))\n"
   ]
  },
  {
   "cell_type": "code",
   "execution_count": null,
   "metadata": {},
   "outputs": [],
   "source": [
    "get_shortest_path_largest_component_Dijkstra(graph1_largest_component)\n",
    "# print('\\n'*3, '-----------------------\\n')\n",
    "# get_shortest_path_largest_component_Dijkstra(graph2_largest_component)\n",
    "# print('\\n'*3, '-----------------------\\n')\n",
    "# get_shortest_path_largest_component_Dijkstra(graph3_largest_component)"
   ]
  },
  {
   "cell_type": "code",
   "execution_count": null,
   "metadata": {},
   "outputs": [],
   "source": [
    "get_shortest_path_largest_component_BF(graph1_largest_component)\n",
    "print('\\n'*3, '-----------------------\\n')\n",
    "get_shortest_path_largest_component_BF(graph2_largest_component)\n",
    "print('\\n'*3, '-----------------------\\n')\n",
    "get_shortest_path_largest_component_BF(graph3_largest_component)"
   ]
  },
  {
   "cell_type": "markdown",
   "metadata": {},
   "source": [
    "## iii) Where is it on random <-> small world <-> regular"
   ]
  },
  {
   "cell_type": "code",
   "execution_count": null,
   "metadata": {},
   "outputs": [],
   "source": [
    "def get_equivalent_random_graph(graph:nx.Graph):\n",
    "    # n : number of nodes\n",
    "    # p : frequency of edge occurence\n",
    "        # max edges: n (n - 1) / 2\n",
    "        # frequency of edge occurence: number of edges / max edges\n",
    "    n = graph.number_of_nodes()\n",
    "    number_edges = graph.number_of_edges()\n",
    "    max_edges = n*(n-1)/2\n",
    "    p = number_edges/max_edges\n",
    "    return np.erdos_renyi_graph(n=n, p=p)\n"
   ]
  },
  {
   "cell_type": "code",
   "execution_count": null,
   "metadata": {},
   "outputs": [],
   "source": [
    "def get_equivalent_regular_graph(graph:nx.Graph):\n",
    "    regular_graph = nx.Graph()\n",
    "\n",
    "    nodes = graph.number_of_nodes()\n",
    "\n",
    "    regular_graph.add_nodes_from(list(range(nodes)))\n",
    "\n",
    "    for node in graph.nodes():\n",
    "        next_one = (node + 1) % nodes \n",
    "        jump_node = (node + 2) % nodes\n",
    "        regular_graph.add_edge(node, next_one)\n",
    "        regular_graph.add_edge(node, jump_node)\n",
    "\n",
    "    fig, ax = plt.subplots(figsize=(10,10))\n",
    "    nx.draw(regular_graph, pos=nx.circular_layout(graph), with_labels=True)\n",
    "    return regular_graph"
   ]
  },
  {
   "cell_type": "code",
   "execution_count": null,
   "metadata": {},
   "outputs": [],
   "source": [
    "def print_graph_comparisons_statistics(graph:nx.Graph):\n",
    "    equivalent_random = get_equivalent_random_graph(graph)\n",
    "    print_graph_statistics(equivalent_random)\n",
    "\n",
    "    equivalent_regular = get_equivalent_regular_graph(graph)\n",
    "    print_graph_statistics(equivalent_regular)"
   ]
  },
  {
   "cell_type": "code",
   "execution_count": null,
   "metadata": {},
   "outputs": [],
   "source": [
    "print_graph_comparisons_statistics(graph1)\n",
    "print('\\n\\n\\n\\n----------------------------------\\n\\n')\n",
    "print_graph_comparisons_statistics(graph2)\n",
    "print('\\n\\n\\n\\n----------------------------------\\n\\n')\n",
    "print_graph_comparisons_statistics(graph3)"
   ]
  },
  {
   "cell_type": "code",
   "execution_count": null,
   "metadata": {},
   "outputs": [],
   "source": [
    "def print_node_level_comparison(graph:nx.Graph):\n",
    "    equivalent_random = get_equivalent_random_graph(graph)\n",
    "    equivalent_regular = get_equivalent_regular_graph(graph)\n",
    "\n",
    "    show_node_level_descriptors([graph, equivalent_random, equivalent_regular], ['graph', 'random', 'regular'])\n"
   ]
  },
  {
   "cell_type": "code",
   "execution_count": null,
   "metadata": {},
   "outputs": [],
   "source": [
    "print_node_level_comparison(graph1)\n",
    "print('\\n\\n\\n\\n----------------------------------\\n\\n')\n",
    "print_node_level_comparison(graph2)\n",
    "print('\\n\\n\\n\\n----------------------------------\\n\\n')\n",
    "print_node_level_comparison(graph3)"
   ]
  },
  {
   "cell_type": "markdown",
   "metadata": {},
   "source": [
    "## v) Two editors are connected iff they have both contributed to any thread in the same page, but not necessarily to the same thread? ( I.e. we would have more connections in the network)"
   ]
  },
  {
   "cell_type": "code",
   "execution_count": null,
   "metadata": {},
   "outputs": [],
   "source": [
    "def create_graph_connected_by_thread_in_same_page(network_data:str):\n",
    "    net = pd.read_csv(network_data)\n",
    "\n",
    "    page_to_editors = net.groupby('page_name')['username'].apply(set).to_dict()\n",
    "\n",
    "    net_graph = nx.Graph()\n",
    "\n",
    "    for editors in page_to_editors.values():\n",
    "        for editor_a in editors:\n",
    "            for editor_b in editors:\n",
    "                if editor_a != editor_b:\n",
    "                    if pd.notnull(editor_a) and pd.notnull(editor_b):\n",
    "                        net_graph.add_edge(editor_a, editor_b)\n",
    "    return net_graph"
   ]
  },
  {
   "cell_type": "markdown",
   "metadata": {},
   "source": [
    "#### - statistics\n",
    "#### - statistics of largest comp\n",
    "#### - node level stats\n",
    "#### - shortest paths (largest comp)\n",
    "#### - where on the regular <-> random network"
   ]
  },
  {
   "cell_type": "code",
   "execution_count": null,
   "metadata": {},
   "outputs": [],
   "source": [
    "net1 = create_graph_connected_by_thread_in_same_page('datasets/PROPERTIES_FOR_DELETION_SML.csv')\n",
    "net2 = create_graph_connected_by_thread_in_same_page(\"datasets/WIKIPROJECTS_MED.csv\")\n",
    "net3 = create_graph_connected_by_thread_in_same_page(\"datasets/REQUEST_FOR_DELETION_LRG.csv\")"
   ]
  },
  {
   "cell_type": "code",
   "execution_count": null,
   "metadata": {},
   "outputs": [],
   "source": [
    "bokeh_plot_simple(net1, 'Net 1', 4)\n",
    "bokeh_plot_simple(net2, 'Net 2', 1)\n",
    "bokeh_plot_simple(net3, 'Net 3', 2)"
   ]
  },
  {
   "cell_type": "code",
   "execution_count": null,
   "metadata": {},
   "outputs": [],
   "source": [
    "# Statistics\n",
    "print_graph_statistics(net1)\n",
    "print()\n",
    "print_graph_statistics(net2)\n",
    "print()\n",
    "print_graph_statistics(net3)"
   ]
  },
  {
   "cell_type": "code",
   "execution_count": null,
   "metadata": {},
   "outputs": [],
   "source": [
    "# Statistics largest comp\n",
    "print_statistics_for_largest_component(graph1)\n",
    "print()\n",
    "print_statistics_for_largest_component(graph2)\n",
    "print()\n",
    "print_statistics_for_largest_component(graph3)"
   ]
  },
  {
   "cell_type": "code",
   "execution_count": null,
   "metadata": {},
   "outputs": [],
   "source": [
    "# node level stats\n",
    "show_node_level_descriptors([net1, net2, net3], ['net1', 'net2', 'net3'])"
   ]
  },
  {
   "cell_type": "code",
   "execution_count": null,
   "metadata": {},
   "outputs": [],
   "source": [
    "# shortest paths\n",
    "\n",
    "net1_largest_component = net1.subgraph(max(nx.connected_components(net1), key=len))\n",
    "\n",
    "net2_largest_component = net2.subgraph(max(nx.connected_components(net2), key=len))\n",
    "\n",
    "net3_largest_component = net3.subgraph(max(nx.connected_components(net3), key=len))"
   ]
  },
  {
   "cell_type": "code",
   "execution_count": null,
   "metadata": {},
   "outputs": [],
   "source": [
    "get_shortest_path_largest_component_Dijkstra(net1_largest_component)\n",
    "print('\\n'*3, '-----------------------\\n')\n",
    "get_shortest_path_largest_component_Dijkstra(net2_largest_component)\n",
    "print('\\n'*3, '-----------------------\\n')\n",
    "get_shortest_path_largest_component_Dijkstra(net3_largest_component)"
   ]
  },
  {
   "cell_type": "code",
   "execution_count": null,
   "metadata": {},
   "outputs": [],
   "source": [
    "get_shortest_path_largest_component_BF(net1_largest_component)\n",
    "print('\\n'*3, '-----------------------\\n')\n",
    "get_shortest_path_largest_component_BF(net2_largest_component)\n",
    "print('\\n'*3, '-----------------------\\n')\n",
    "get_shortest_path_largest_component_BF(net3_largest_component)"
   ]
  },
  {
   "cell_type": "code",
   "execution_count": null,
   "metadata": {},
   "outputs": [],
   "source": [
    "print_graph_comparisons_statistics(net1)\n",
    "print('\\n\\n\\n\\n----------------------------------\\n\\n')\n",
    "print_graph_comparisons_statistics(net2)\n",
    "print('\\n\\n\\n\\n----------------------------------\\n\\n')\n",
    "print_graph_comparisons_statistics(net3)"
   ]
  }
 ],
 "metadata": {
  "kernelspec": {
   "display_name": "nda",
   "language": "python",
   "name": "python3"
  },
  "language_info": {
   "codemirror_mode": {
    "name": "ipython",
    "version": 3
   },
   "file_extension": ".py",
   "mimetype": "text/x-python",
   "name": "python",
   "nbconvert_exporter": "python",
   "pygments_lexer": "ipython3",
   "version": "3.9.18"
  }
 },
 "nbformat": 4,
 "nbformat_minor": 2
}
